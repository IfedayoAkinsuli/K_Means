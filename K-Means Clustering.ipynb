{
 "cells": [
  {
   "cell_type": "markdown",
   "source": [
    "# K-Means Assignment\n",
    "\n",
    "## Task 1 (Prepare Two test datasets)\n",
    "Below is a chosen small data set for the application of kmeans clustering.The purpose of the small data set is to ensure understanding of the k means algorithm as the data is small and exhaustible.\n",
    "\n",
    "The small dataset is suitable as:\n",
    "1. Kmeans is a distance based form of clustering the grouping of the clusters prevents ambiguity of solution as there is only one optimal solution.\n",
    "2. There are 3 clear clusters (k=3) so implementing the elbow method to find an optimal k is not necessary.\n",
    "3. The optimal seeding points i.e, the 3 points required to generate the optimal solution are already known this will mitigate the need to carry out inconsequential test runs."
   ],
   "metadata": {
    "collapsed": false
   }
  },
  {
   "cell_type": "code",
   "execution_count": 1,
   "outputs": [
    {
     "data": {
      "text/plain": "    x   y\n0   1   1\n1   2   1\n2  10   0\n3   9   1\n4  10  10\n5   9   9",
      "text/html": "<div>\n<style scoped>\n    .dataframe tbody tr th:only-of-type {\n        vertical-align: middle;\n    }\n\n    .dataframe tbody tr th {\n        vertical-align: top;\n    }\n\n    .dataframe thead th {\n        text-align: right;\n    }\n</style>\n<table border=\"1\" class=\"dataframe\">\n  <thead>\n    <tr style=\"text-align: right;\">\n      <th></th>\n      <th>x</th>\n      <th>y</th>\n    </tr>\n  </thead>\n  <tbody>\n    <tr>\n      <th>0</th>\n      <td>1</td>\n      <td>1</td>\n    </tr>\n    <tr>\n      <th>1</th>\n      <td>2</td>\n      <td>1</td>\n    </tr>\n    <tr>\n      <th>2</th>\n      <td>10</td>\n      <td>0</td>\n    </tr>\n    <tr>\n      <th>3</th>\n      <td>9</td>\n      <td>1</td>\n    </tr>\n    <tr>\n      <th>4</th>\n      <td>10</td>\n      <td>10</td>\n    </tr>\n    <tr>\n      <th>5</th>\n      <td>9</td>\n      <td>9</td>\n    </tr>\n  </tbody>\n</table>\n</div>"
     },
     "metadata": {},
     "output_type": "display_data"
    },
    {
     "data": {
      "text/plain": "<AxesSubplot: xlabel='x', ylabel='y'>"
     },
     "execution_count": 1,
     "metadata": {},
     "output_type": "execute_result"
    },
    {
     "data": {
      "text/plain": "<Figure size 640x480 with 1 Axes>",
      "image/png": "[encoded data removed]"
     },
     "metadata": {},
     "output_type": "display_data"
    }
   ],
   "source": [
    "import pandas as pd\n",
    "import seaborn as sns\n",
    "import matplotlib.pyplot as plt\n",
    "\n",
    "small_dataset = pd.DataFrame([[1,1],[2,1],[10,0],[9,1],[10,10],[9,9]],columns=['x','y'])\n",
    "display(small_dataset)\n",
    "\n",
    "sns.scatterplot(data=small_dataset,x='x',y='y')"
   ],
   "metadata": {
    "collapsed": false
   }
  },
  {
   "cell_type": "markdown",
   "source": [
    "The existing large dataset I have chosen for the implementation task of this assignment is the iris dataset displayed below.This data was acquired from the sklearn library with the following url\n",
    "\n",
    "https://scikit-learn.org/stable/modules/generated/sklearn.datasets.load_iris.html"
   ],
   "metadata": {
    "collapsed": false
   }
  },
  {
   "cell_type": "code",
   "execution_count": 2,
   "outputs": [
    {
     "data": {
      "text/plain": "     sepal length (cm)  sepal width (cm)  petal length (cm)  petal width (cm)\n0                  5.1               3.5                1.4               0.2\n1                  4.9               3.0                1.4               0.2\n2                  4.7               3.2                1.3               0.2\n3                  4.6               3.1                1.5               0.2\n4                  5.0               3.6                1.4               0.2\n..                 ...               ...                ...               ...\n145                6.7               3.0                5.2               2.3\n146                6.3               2.5                5.0               1.9\n147                6.5               3.0                5.2               2.0\n148                6.2               3.4                5.4               2.3\n149                5.9               3.0                5.1               1.8\n\n[150 rows x 4 columns]",
      "text/html": "<div>\n<style scoped>\n    .dataframe tbody tr th:only-of-type {\n        vertical-align: middle;\n    }\n\n    .dataframe tbody tr th {\n        vertical-align: top;\n    }\n\n    .dataframe thead th {\n        text-align: right;\n    }\n</style>\n<table border=\"1\" class=\"dataframe\">\n  <thead>\n    <tr style=\"text-align: right;\">\n      <th></th>\n      <th>sepal length (cm)</th>\n      <th>sepal width (cm)</th>\n      <th>petal length (cm)</th>\n      <th>petal width (cm)</th>\n    </tr>\n  </thead>\n  <tbody>\n    <tr>\n      <th>0</th>\n      <td>5.1</td>\n      <td>3.5</td>\n      <td>1.4</td>\n      <td>0.2</td>\n    </tr>\n    <tr>\n      <th>1</th>\n      <td>4.9</td>\n      <td>3.0</td>\n      <td>1.4</td>\n      <td>0.2</td>\n    </tr>\n    <tr>\n      <th>2</th>\n      <td>4.7</td>\n      <td>3.2</td>\n      <td>1.3</td>\n      <td>0.2</td>\n    </tr>\n    <tr>\n      <th>3</th>\n      <td>4.6</td>\n      <td>3.1</td>\n      <td>1.5</td>\n      <td>0.2</td>\n    </tr>\n    <tr>\n      <th>4</th>\n      <td>5.0</td>\n      <td>3.6</td>\n      <td>1.4</td>\n      <td>0.2</td>\n    </tr>\n    <tr>\n      <th>...</th>\n      <td>...</td>\n      <td>...</td>\n      <td>...</td>\n      <td>...</td>\n    </tr>\n    <tr>\n      <th>145</th>\n      <td>6.7</td>\n      <td>3.0</td>\n      <td>5.2</td>\n      <td>2.3</td>\n    </tr>\n    <tr>\n      <th>146</th>\n      <td>6.3</td>\n      <td>2.5</td>\n      <td>5.0</td>\n      <td>1.9</td>\n    </tr>\n    <tr>\n      <th>147</th>\n      <td>6.5</td>\n      <td>3.0</td>\n      <td>5.2</td>\n      <td>2.0</td>\n    </tr>\n    <tr>\n      <th>148</th>\n      <td>6.2</td>\n      <td>3.4</td>\n      <td>5.4</td>\n      <td>2.3</td>\n    </tr>\n    <tr>\n      <th>149</th>\n      <td>5.9</td>\n      <td>3.0</td>\n      <td>5.1</td>\n      <td>1.8</td>\n    </tr>\n  </tbody>\n</table>\n<p>150 rows × 4 columns</p>\n</div>"
     },
     "metadata": {},
     "output_type": "display_data"
    }
   ],
   "source": [
    "iris = pd.read_csv('iris.csv')\n",
    "display(iris)"
   ],
   "metadata": {
    "collapsed": false
   }
  },
  {
   "cell_type": "markdown",
   "source": [
    "## Task 2 (Apply on Paper)\n",
    "\n",
    "1. Pick k centroids (k=3 for this small test set)\n",
    "&nbsp;\n",
    "2. Calculate the euclidean distance between each point and each cluster centre (centroid).\n",
    "&nbsp;\n",
    "3. Assign each point to a cluster based on the smallest distance to each cluster centre (centroid).\n",
    "&nbsp;\n",
    "4. Recalculate centroids of each cluster and repeat steps 2 and 3 till there is no change in the classification. Then calculate the sum of squared errors for this final iteration.\n",
    "&nbsp;\n",
    "5. Pick new initial k centroids and repeat the entire process till the smallest sum of squared error is found.\n",
    "\n",
    "__NB:__\n",
    "* Exhausting all permutations is tedious and often only has marginal benefits.\n",
    "&nbsp;\n",
    "* K is usually shown using the elbow method,plotting the sum of squared errors of each solution k and picking the k which represents the smallest fall in sum of squared errors. For this case k is already known."
   ],
   "metadata": {
    "collapsed": false
   }
  },
  {
   "cell_type": "markdown",
   "source": [
    "### Application on Paper (K=3):\n",
    "\n",
    "| ID  | x   | y   |\n",
    "|-----|-----|-----|\n",
    "| a   | 1   | 1   |\n",
    "| b   | 2   | 1   |\n",
    "| c   | 10  | 0   |\n",
    "| d   | 9   | 1   |\n",
    "| e   | 10  | 10  |\n",
    "| f   | 9   | 9   |\n",
    "\n",
    "Pick 3 centroids at random\n",
    "\n",
    "| Cluster | Centroids |\n",
    "|---------|-----------|\n",
    "| 1       | (1,1)     |\n",
    "| 2       | (10,0)    |\n",
    "| 3       | (10,10)   |\n",
    "\n",
    "\n",
    "Euclidean formula\n",
    "$$distance = \\sqrt{(y_2-y_1)^2 +(x_2-x_1)^2}$$\n",
    "__Calculating the distance between point a $(1,1)$ and cluster 2$(10,0)$__\n",
    "$$distance = \\sqrt{(0-1)^2 +(10-1)^2}$$\n",
    "$$distance = \\sqrt{1 + 81}$$\n",
    "$$distance = \\sqrt{82}$$\n",
    "$$distance = 9.1$$\n",
    "\n",
    "\n",
    "__Finding the distance from every cluster centroid__\n",
    "\n",
    "\n",
    "| ID  | x   | y   | Distance Cluster 1 | Distance Cluster 2 | Distance Cluster 3 | Assigned Cluster |\n",
    "|-----|-----|-----|--------------------|--------------------|--------------------|------------------|\n",
    "| a   | 1   | 1   | 0                  | 9.1                | 12.7               | 1                |\n",
    "| b   | 2   | 1   | 1                  | 8.1                | 12                 | 1                |\n",
    "| c   | 10  | 0   | 9.1                | 0                  | 10                 | 2                |\n",
    "| d   | 9   | 1   | 8                  | 1.4                | 9.1                | 2                |\n",
    "| e   | 10  | 10  | 12.7               | 10                 | 0                  | 3                |\n",
    "| f   | 9   | 9   | 11.3               | 9.1                | 1.4                | 3                |\n",
    "\n",
    "Recalculate the centroid as the average of each cluster\n",
    "\n",
    "__Example Cluster 1:__\n",
    "$$\\left( \\frac{1+2}{2},\\frac{1+1}{2} \\right)$$\n",
    "$$(1.5,1)$$\n",
    "\n",
    "\n",
    "__The new centroids are__\n",
    "\n",
    "| Cluster | Centroids |\n",
    "|---------|-----------|\n",
    "| 1       | (1.5,1)   |\n",
    "| 2       | (9.5,0.5) |\n",
    "| 3       | (9.5,9.5) |\n",
    "\n",
    "\n",
    "\n",
    "__Finding the distance from every cluster centroid and Reassigning Clusters__\n",
    "\n",
    "| ID  | x   | y   | Distance Cluster 1 | Distance Cluster 2 | Distance Cluster 3 | Assigned Cluster |\n",
    "|-----|-----|-----|--------------------|--------------------|--------------------|------------------|\n",
    "| a   | 1   | 1   | 0.5                | 8.5                | 12.0               | 1                |\n",
    "| b   | 2   | 1   | 0.5                | 7.5                | 11.3               | 1                |\n",
    "| c   | 10  | 0   | 8.6                | 0.7                | 9.5                | 2                |\n",
    "| d   | 9   | 1   | 7.5                | 0.7                | 8.5                | 2                |\n",
    "| e   | 10  | 10  | 12.4               | 9.5                | 0.7                | 3                |\n",
    "| f   | 9   | 9   | 11.0               | 8.5                | 0.7                | 3                |\n",
    "\n",
    "As we can see the assigned clusters have not changed therefore the solution has converged for these initial k points.\n",
    "\n",
    "\n",
    "__Calculating the SSE__\n",
    "\n",
    "$$SSE = \\Sigma\\ (euclidean\\ distance\\ of\\ each\\ point\\ to\\ their\\ cluster\\ centre)^2$$\n",
    "$$SSE = 0.5^2 + 0.5^2 + 0.7^2 + 0.7^2 + 0.7^2 + + 0.7^2$$\n",
    "$$SSE = 2.5$$\n",
    "\n",
    "__The process would then be repeated for new initial clusters but this is already a known optimal solution__"
   ],
   "metadata": {
    "collapsed": false
   }
  },
  {
   "cell_type": "markdown",
   "source": [
    "Checking the solution achieved for the created small dataset against the scikit learn implementation. The results corroborate the solution found above. The labels are as shown below"
   ],
   "metadata": {
    "collapsed": false
   }
  },
  {
   "cell_type": "code",
   "execution_count": 3,
   "outputs": [
    {
     "data": {
      "text/plain": "array([1, 1, 0, 0, 2, 2])"
     },
     "execution_count": 3,
     "metadata": {},
     "output_type": "execute_result"
    }
   ],
   "source": [
    "from sklearn.cluster import KMeans\n",
    "\n",
    "kmeans = KMeans(n_clusters=3)\n",
    "kmeans.fit(small_dataset)\n",
    "\n",
    "kmeans.labels_"
   ],
   "metadata": {
    "collapsed": false
   }
  },
  {
   "cell_type": "markdown",
   "source": [
    "The Centroids/cluster centers are shown below"
   ],
   "metadata": {
    "collapsed": false
   }
  },
  {
   "cell_type": "code",
   "execution_count": 4,
   "outputs": [
    {
     "data": {
      "text/plain": "array([[9.5, 0.5],\n       [1.5, 1. ],\n       [9.5, 9.5]])"
     },
     "execution_count": 4,
     "metadata": {},
     "output_type": "execute_result"
    }
   ],
   "source": [
    "kmeans.cluster_centers_"
   ],
   "metadata": {
    "collapsed": false
   }
  },
  {
   "cell_type": "markdown",
   "source": [
    "The SSE is shown below"
   ],
   "metadata": {
    "collapsed": false
   }
  },
  {
   "cell_type": "code",
   "execution_count": 5,
   "outputs": [
    {
     "data": {
      "text/plain": "2.5"
     },
     "execution_count": 5,
     "metadata": {},
     "output_type": "execute_result"
    }
   ],
   "source": [
    "kmeans.inertia_"
   ],
   "metadata": {
    "collapsed": false
   }
  },
  {
   "cell_type": "markdown",
   "source": [
    "## Task 3 (Creating a test harness using sci-kit learn)\n",
    "\n",
    "__Unit Tests__\n",
    "* The unit tests will be on the implementation of a points picker which outputs a list of possible starting permutations based on the input data set.\n",
    "\n",
    "* The second unit test will be on an algorithm that calculates the euclidean distance for each point and each centroid/cluster centre and assigns each point to the correct cluster.\n",
    "\n",
    "* The Third unit test will be on an algorithm for the appropriate means of calculating the SSE (sum squared error).\n",
    "\n",
    "The unit tests will use the small dataset and the previously found solutions in task 2"
   ],
   "metadata": {
    "collapsed": false
   }
  },
  {
   "cell_type": "markdown",
   "source": [
    "__Implementation Test__\n",
    "The Implementation test harness is shown below for labels,centroids and SSE. It is comparing the results of the implementation to the results ascertained from the sci-kit learn library."
   ],
   "metadata": {
    "collapsed": false
   }
  },
  {
   "cell_type": "code",
   "execution_count": 25,
   "outputs": [
    {
     "name": "stdout",
     "output_type": "stream",
     "text": [
      "[1 1 1 1 1 1 1 1 1 1 1 1 1 1 1 1 1 1 1 1 1 1 1 1 1 1 1 1 1 1 1 1 1 1 1 1 1\n",
      " 1 1 1 1 1 1 1 1 1 1 1 1 1 0 0 2 0 0 0 0 0 0 0 0 0 0 0 0 0 0 0 0 0 0 0 0 0\n",
      " 0 0 0 2 0 0 0 0 0 0 0 0 0 0 0 0 0 0 0 0 0 0 0 0 0 0 2 0 2 2 2 2 0 2 2 2 2\n",
      " 2 2 0 0 2 2 2 2 0 2 0 2 0 2 2 0 0 2 2 2 2 2 0 2 2 2 2 0 2 2 2 0 2 2 2 0 2\n",
      " 2 0]\n"
     ]
    }
   ],
   "source": [
    "from sklearn.cluster import KMeans\n",
    "\n",
    "kmeans = KMeans(n_clusters=3)\n",
    "kmeans.fit(iris)\n",
    "\n",
    "print(kmeans.labels_)"
   ],
   "metadata": {
    "collapsed": false
   }
  },
  {
   "cell_type": "markdown",
   "source": [
    "Below is the test harness cluster centers/centroids"
   ],
   "metadata": {
    "collapsed": false
   }
  },
  {
   "cell_type": "code",
   "execution_count": 26,
   "outputs": [
    {
     "name": "stdout",
     "output_type": "stream",
     "text": [
      "[[5.9016129  2.7483871  4.39354839 1.43387097]\n",
      " [5.006      3.428      1.462      0.246     ]\n",
      " [6.85       3.07368421 5.74210526 2.07105263]]\n"
     ]
    }
   ],
   "source": [
    "print(kmeans.cluster_centers_)"
   ],
   "metadata": {
    "collapsed": false
   }
  },
  {
   "cell_type": "markdown",
   "source": [
    "Below is the test harness SSE"
   ],
   "metadata": {
    "collapsed": false
   }
  },
  {
   "cell_type": "code",
   "execution_count": 8,
   "outputs": [
    {
     "name": "stdout",
     "output_type": "stream",
     "text": [
      "78.851441426146\n"
     ]
    }
   ],
   "source": [
    "print(kmeans.inertia_)"
   ],
   "metadata": {
    "collapsed": false
   }
  },
  {
   "cell_type": "markdown",
   "source": [
    "## Task 4 (Implementation of K means)"
   ],
   "metadata": {
    "collapsed": false
   }
  },
  {
   "cell_type": "markdown",
   "source": [
    "__Unit testing the seed generator.__\n",
    "Checking it calculates a list of possible seeds. given k as an input and the data in the form of a data frame. The output should be in the form of a list of possible seeds."
   ],
   "metadata": {
    "collapsed": false
   }
  },
  {
   "cell_type": "code",
   "execution_count": 9,
   "outputs": [
    {
     "data": {
      "text/plain": "[(0, 1, 2),\n (0, 1, 3),\n (0, 1, 4),\n (0, 1, 5),\n (0, 2, 3),\n (0, 2, 4),\n (0, 2, 5),\n (0, 3, 4),\n (0, 3, 5),\n (0, 4, 5),\n (1, 2, 3),\n (1, 2, 4),\n (1, 2, 5),\n (1, 3, 4),\n (1, 3, 5),\n (1, 4, 5),\n (2, 3, 4),\n (2, 3, 5),\n (2, 4, 5),\n (3, 4, 5)]"
     },
     "execution_count": 9,
     "metadata": {},
     "output_type": "execute_result"
    }
   ],
   "source": [
    "k=3\n",
    "n = small_dataset.index\n",
    "\n",
    "from itertools import combinations,islice\n",
    "combi = list(islice(combinations(n,k),20000))\n",
    "combi"
   ],
   "metadata": {
    "collapsed": false
   }
  },
  {
   "cell_type": "markdown",
   "source": [
    "__Unit testing the Clustered function.__\n",
    "Checking that it outputs a dataframe with an extra column for the assigned cluster appropriate with the centroid. From the result below we can see this operates as expected."
   ],
   "metadata": {
    "collapsed": false
   }
  },
  {
   "cell_type": "code",
   "execution_count": 10,
   "outputs": [
    {
     "data": {
      "text/plain": "    x   y  Cluster\n0   1   1        0\n1   2   1        0\n2  10   0        1\n3   9   1        1\n4  10  10        2\n5   9   9        2",
      "text/html": "<div>\n<style scoped>\n    .dataframe tbody tr th:only-of-type {\n        vertical-align: middle;\n    }\n\n    .dataframe tbody tr th {\n        vertical-align: top;\n    }\n\n    .dataframe thead th {\n        text-align: right;\n    }\n</style>\n<table border=\"1\" class=\"dataframe\">\n  <thead>\n    <tr style=\"text-align: right;\">\n      <th></th>\n      <th>x</th>\n      <th>y</th>\n      <th>Cluster</th>\n    </tr>\n  </thead>\n  <tbody>\n    <tr>\n      <th>0</th>\n      <td>1</td>\n      <td>1</td>\n      <td>0</td>\n    </tr>\n    <tr>\n      <th>1</th>\n      <td>2</td>\n      <td>1</td>\n      <td>0</td>\n    </tr>\n    <tr>\n      <th>2</th>\n      <td>10</td>\n      <td>0</td>\n      <td>1</td>\n    </tr>\n    <tr>\n      <th>3</th>\n      <td>9</td>\n      <td>1</td>\n      <td>1</td>\n    </tr>\n    <tr>\n      <th>4</th>\n      <td>10</td>\n      <td>10</td>\n      <td>2</td>\n    </tr>\n    <tr>\n      <th>5</th>\n      <td>9</td>\n      <td>9</td>\n      <td>2</td>\n    </tr>\n  </tbody>\n</table>\n</div>"
     },
     "execution_count": 10,
     "metadata": {},
     "output_type": "execute_result"
    }
   ],
   "source": [
    "from scipy.spatial.distance import euclidean\n",
    "cluster = []\n",
    "initial_len=small_dataset.shape[1]\n",
    "centroids = pd.DataFrame([[1.5,1],[9.5,0.5],[9.5,9.5]])\n",
    "\n",
    "for j in range(0,len(small_dataset)):\n",
    "    smallest_distance = {i:euclidean(u=small_dataset.iloc[j,0:initial_len],v=centroids.iloc[i,0:initial_len]) for i in range(0,len(centroids))}\n",
    "    cluster.append(min(smallest_distance,key=smallest_distance.get))\n",
    "\n",
    "s = small_dataset.assign(Cluster = cluster)\n",
    "s"
   ],
   "metadata": {
    "collapsed": false
   }
  },
  {
   "cell_type": "markdown",
   "source": [
    "__Unit Testing the SSE calculator of the Kmeans__\n",
    "The expected SSE for the solution was 2.5 and the resulting SSE was 2.5 shown below"
   ],
   "metadata": {
    "collapsed": false
   }
  },
  {
   "cell_type": "code",
   "execution_count": 11,
   "outputs": [
    {
     "data": {
      "text/plain": "2.5"
     },
     "execution_count": 11,
     "metadata": {},
     "output_type": "execute_result"
    }
   ],
   "source": [
    "SSE = []\n",
    "\n",
    "for j in range(0,k):\n",
    "    error = [(euclidean(u=s.loc[s.Cluster == j].reset_index(drop=True).drop(['Cluster'],axis=1).iloc[i],v=centroids.iloc[j]))**2 for i in range(0,len(s.loc[s.Cluster == j]))]\n",
    "    error = sum(error)\n",
    "    SSE.append(error)\n",
    "\n",
    "e = round(sum(SSE),3)\n",
    "e"
   ],
   "metadata": {
    "collapsed": false
   }
  },
  {
   "cell_type": "markdown",
   "source": [
    "__Implementing the full Kmeans Algorithm.__"
   ],
   "metadata": {
    "collapsed": false
   }
  },
  {
   "cell_type": "code",
   "execution_count": 12,
   "outputs": [],
   "source": [
    "class Cluster:\n",
    "    def __init__(self):\n",
    "        pass\n",
    "\n",
    "    def Kmeans(self,data,k:int,no_iterations=10,no_seeds=10):\n",
    "        \"\"\"\n",
    "        This method carries out the kmeans implementation by\n",
    "        iteratively assigning each data object to a cluster\n",
    "        based on euclidean distances.It repeats this process\n",
    "        for a specified number of seeds and a specified number of\n",
    "        iterations keeping only the best found solution by comparing\n",
    "        each solution SSE to the found optimal.\n",
    "        \"\"\"\n",
    "        sample = data\n",
    "        sample = sample.reset_index(drop=True)\n",
    "\n",
    "        def points_picker():\n",
    "            \"\"\"\n",
    "            This function creates a list of seeds\n",
    "            for picking starting centroids/cluster centre.\n",
    "            \"\"\"\n",
    "            n = sample.index\n",
    "            from itertools import combinations,islice\n",
    "            combi = list(islice(combinations(n,k),20000))\n",
    "            return combi\n",
    "\n",
    "        def clustered():\n",
    "            \"\"\"\n",
    "            This function calculates the euclidean distance\n",
    "            between each point and all centroids. Then assigns\n",
    "            each point based on the closest centroid or cluster\n",
    "            centre.\n",
    "            \"\"\"\n",
    "            from scipy.spatial.distance import euclidean\n",
    "            cluster = []\n",
    "\n",
    "            for j in range(0,len(sample)):\n",
    "                smallest_distance = {i:euclidean(u=sample.iloc[j,0:initial_len],v=centroids.iloc[i,0:initial_len]) for i in range(0,len(centroids))}\n",
    "                cluster.append(min(smallest_distance,key=smallest_distance.get))\n",
    "\n",
    "            s = sample.assign(Cluster = cluster)\n",
    "            return s\n",
    "\n",
    "        from scipy.spatial.distance import euclidean\n",
    "        t = points_picker()\n",
    "\n",
    "        initial_len = sample.shape[1]\n",
    "        min_sse = 1000\n",
    "\n",
    "        for m in range(0,len(t),int(len(t)/no_seeds)):\n",
    "            SSE = []\n",
    "            centroids = sample.iloc[list(t[m])]\n",
    "\n",
    "            for i in range(0,no_iterations):\n",
    "                sample = clustered()\n",
    "                centroids = sample.groupby('Cluster').mean()\n",
    "\n",
    "            for j in range(0,k):\n",
    "                error = [(euclidean(u=sample.loc[sample.Cluster == j].reset_index(drop=True).drop(['Cluster'],axis=1).iloc[i],v=centroids.iloc[j]))**2 for i in range(0,len(sample.loc[sample.Cluster == j]))]\n",
    "                error = sum(error)\n",
    "                SSE.append(error)\n",
    "\n",
    "            e = round(sum(SSE),3)\n",
    "\n",
    "            if e < min_sse:\n",
    "                min_sse = e\n",
    "                solution = sample\n",
    "                solution_centroids = centroids\n",
    "\n",
    "        return solution,min_sse,solution_centroids"
   ],
   "metadata": {
    "collapsed": false
   }
  },
  {
   "cell_type": "markdown",
   "source": [
    "Below is the Implementing of an elbow diagram in order to find a suitable k."
   ],
   "metadata": {
    "collapsed": false
   }
  },
  {
   "cell_type": "code",
   "execution_count": 13,
   "outputs": [
    {
     "data": {
      "text/plain": "<AxesSubplot: xlabel='k', ylabel='Sum of squared errors'>"
     },
     "execution_count": 13,
     "metadata": {},
     "output_type": "execute_result"
    },
    {
     "data": {
      "text/plain": "<Figure size 1500x1500 with 1 Axes>",
      "image/png": "[encoded data removed]"
     },
     "metadata": {},
     "output_type": "display_data"
    }
   ],
   "source": [
    "elbow_k = [1,2,3,4]\n",
    "elbow_error = []\n",
    "\n",
    "for k in elbow_k:\n",
    "    clustered_data,sum_square_error,cent = Cluster().Kmeans(data=iris,k=k,no_iterations=10,no_seeds=3)\n",
    "    elbow_error.append(sum_square_error)\n",
    "\n",
    "plt.figure(figsize=(15,15))\n",
    "plt.xlabel('k')\n",
    "plt.ylabel('Sum of squared errors')\n",
    "sns.lineplot(x=elbow_k,y=elbow_error)"
   ],
   "metadata": {
    "collapsed": false
   }
  },
  {
   "cell_type": "markdown",
   "source": [
    "From the above elbow diagram the optimal cluster choice is 3 therefore k=3. The other Kmeans arguments were chosen by user"
   ],
   "metadata": {
    "collapsed": false
   }
  },
  {
   "cell_type": "code",
   "execution_count": 14,
   "outputs": [],
   "source": [
    "clustered_data,sum_square_error,cent = Cluster().Kmeans(data=iris,k=3,no_iterations=10,no_seeds=20)"
   ],
   "metadata": {
    "collapsed": false
   }
  },
  {
   "cell_type": "markdown",
   "source": [
    "## Comparing the results of the implementation to the harness\n",
    "\n",
    "__Comparing the centroids__"
   ],
   "metadata": {
    "collapsed": false
   }
  },
  {
   "cell_type": "code",
   "execution_count": 15,
   "outputs": [
    {
     "data": {
      "text/plain": "         sepal length (cm)  sepal width (cm)  petal length (cm)  \\\nCluster                                                           \n0                 5.006000          3.428000           1.462000   \n1                 5.901613          2.748387           4.393548   \n2                 6.850000          3.073684           5.742105   \n\n         petal width (cm)  \nCluster                    \n0                0.246000  \n1                1.433871  \n2                2.071053  ",
      "text/html": "<div>\n<style scoped>\n    .dataframe tbody tr th:only-of-type {\n        vertical-align: middle;\n    }\n\n    .dataframe tbody tr th {\n        vertical-align: top;\n    }\n\n    .dataframe thead th {\n        text-align: right;\n    }\n</style>\n<table border=\"1\" class=\"dataframe\">\n  <thead>\n    <tr style=\"text-align: right;\">\n      <th></th>\n      <th>sepal length (cm)</th>\n      <th>sepal width (cm)</th>\n      <th>petal length (cm)</th>\n      <th>petal width (cm)</th>\n    </tr>\n    <tr>\n      <th>Cluster</th>\n      <th></th>\n      <th></th>\n      <th></th>\n      <th></th>\n    </tr>\n  </thead>\n  <tbody>\n    <tr>\n      <th>0</th>\n      <td>5.006000</td>\n      <td>3.428000</td>\n      <td>1.462000</td>\n      <td>0.246000</td>\n    </tr>\n    <tr>\n      <th>1</th>\n      <td>5.901613</td>\n      <td>2.748387</td>\n      <td>4.393548</td>\n      <td>1.433871</td>\n    </tr>\n    <tr>\n      <th>2</th>\n      <td>6.850000</td>\n      <td>3.073684</td>\n      <td>5.742105</td>\n      <td>2.071053</td>\n    </tr>\n  </tbody>\n</table>\n</div>"
     },
     "execution_count": 15,
     "metadata": {},
     "output_type": "execute_result"
    }
   ],
   "source": [
    "cent"
   ],
   "metadata": {
    "collapsed": false
   }
  },
  {
   "cell_type": "code",
   "execution_count": 27,
   "outputs": [
    {
     "data": {
      "text/plain": "   sepal length (cm)  sepal width (cm)  petal length (cm)  petal width (cm)\n0           5.901613          2.748387           4.393548          1.433871\n1           5.006000          3.428000           1.462000          0.246000\n2           6.850000          3.073684           5.742105          2.071053",
      "text/html": "<div>\n<style scoped>\n    .dataframe tbody tr th:only-of-type {\n        vertical-align: middle;\n    }\n\n    .dataframe tbody tr th {\n        vertical-align: top;\n    }\n\n    .dataframe thead th {\n        text-align: right;\n    }\n</style>\n<table border=\"1\" class=\"dataframe\">\n  <thead>\n    <tr style=\"text-align: right;\">\n      <th></th>\n      <th>sepal length (cm)</th>\n      <th>sepal width (cm)</th>\n      <th>petal length (cm)</th>\n      <th>petal width (cm)</th>\n    </tr>\n  </thead>\n  <tbody>\n    <tr>\n      <th>0</th>\n      <td>5.901613</td>\n      <td>2.748387</td>\n      <td>4.393548</td>\n      <td>1.433871</td>\n    </tr>\n    <tr>\n      <th>1</th>\n      <td>5.006000</td>\n      <td>3.428000</td>\n      <td>1.462000</td>\n      <td>0.246000</td>\n    </tr>\n    <tr>\n      <th>2</th>\n      <td>6.850000</td>\n      <td>3.073684</td>\n      <td>5.742105</td>\n      <td>2.071053</td>\n    </tr>\n  </tbody>\n</table>\n</div>"
     },
     "execution_count": 27,
     "metadata": {},
     "output_type": "execute_result"
    }
   ],
   "source": [
    "harness_centroids = pd.DataFrame(kmeans.cluster_centers_,columns=list(kmeans.feature_names_in_))\n",
    "harness_centroids"
   ],
   "metadata": {
    "collapsed": false
   }
  },
  {
   "cell_type": "markdown",
   "source": [
    "__Comparing the Sum squared error__"
   ],
   "metadata": {
    "collapsed": false
   }
  },
  {
   "cell_type": "code",
   "execution_count": 28,
   "outputs": [
    {
     "data": {
      "text/plain": "78.851"
     },
     "metadata": {},
     "output_type": "display_data"
    },
    {
     "data": {
      "text/plain": "78.851"
     },
     "metadata": {},
     "output_type": "display_data"
    }
   ],
   "source": [
    "display(round(kmeans.inertia_,3))\n",
    "\n",
    "display(sum_square_error)"
   ],
   "metadata": {
    "collapsed": false
   }
  },
  {
   "cell_type": "markdown",
   "source": [
    "__Comparing the Accuracy of the implementation against the test harness__"
   ],
   "metadata": {
    "collapsed": false
   }
  },
  {
   "cell_type": "code",
   "execution_count": 29,
   "outputs": [
    {
     "data": {
      "text/plain": "array([0, 0, 0, 0, 0, 0, 0, 0, 0, 0, 0, 0, 0, 0, 0, 0, 0, 0, 0, 0, 0, 0,\n       0, 0, 0, 0, 0, 0, 0, 0, 0, 0, 0, 0, 0, 0, 0, 0, 0, 0, 0, 0, 0, 0,\n       0, 0, 0, 0, 0, 0, 1, 1, 2, 1, 1, 1, 1, 1, 1, 1, 1, 1, 1, 1, 1, 1,\n       1, 1, 1, 1, 1, 1, 1, 1, 1, 1, 1, 2, 1, 1, 1, 1, 1, 1, 1, 1, 1, 1,\n       1, 1, 1, 1, 1, 1, 1, 1, 1, 1, 1, 1, 2, 1, 2, 2, 2, 2, 1, 2, 2, 2,\n       2, 2, 2, 1, 1, 2, 2, 2, 2, 1, 2, 1, 2, 1, 2, 2, 1, 1, 2, 2, 2, 2,\n       2, 1, 2, 2, 2, 2, 1, 2, 2, 2, 1, 2, 2, 2, 1, 2, 2, 1], dtype=int64)"
     },
     "execution_count": 29,
     "metadata": {},
     "output_type": "execute_result"
    }
   ],
   "source": [
    "import numpy as np\n",
    "s=np.array(clustered_data.Cluster)\n",
    "s"
   ],
   "metadata": {
    "collapsed": false
   }
  },
  {
   "cell_type": "code",
   "execution_count": 30,
   "outputs": [
    {
     "data": {
      "text/plain": "array([0, 0, 0, 0, 0, 0, 0, 0, 0, 0, 0, 0, 0, 0, 0, 0, 0, 0, 0, 0, 0, 0,\n       0, 0, 0, 0, 0, 0, 0, 0, 0, 0, 0, 0, 0, 0, 0, 0, 0, 0, 0, 0, 0, 0,\n       0, 0, 0, 0, 0, 0, 1, 1, 2, 1, 1, 1, 1, 1, 1, 1, 1, 1, 1, 1, 1, 1,\n       1, 1, 1, 1, 1, 1, 1, 1, 1, 1, 1, 2, 1, 1, 1, 1, 1, 1, 1, 1, 1, 1,\n       1, 1, 1, 1, 1, 1, 1, 1, 1, 1, 1, 1, 2, 1, 2, 2, 2, 2, 1, 2, 2, 2,\n       2, 2, 2, 1, 1, 2, 2, 2, 2, 1, 2, 1, 2, 1, 2, 2, 1, 1, 2, 2, 2, 2,\n       2, 1, 2, 2, 2, 2, 1, 2, 2, 2, 1, 2, 2, 2, 1, 2, 2, 1])"
     },
     "execution_count": 30,
     "metadata": {},
     "output_type": "execute_result"
    }
   ],
   "source": [
    "harness=pd.Series(kmeans.labels_)\n",
    "harness_adj = harness.replace(to_replace=[0,1,2],value=[1,0,2])\n",
    "harness_adj = np.array(harness_adj)\n",
    "harness_adj"
   ],
   "metadata": {
    "collapsed": false
   }
  },
  {
   "cell_type": "code",
   "execution_count": 31,
   "outputs": [
    {
     "name": "stdout",
     "output_type": "stream",
     "text": [
      "The accuracy of the implemented kmeans relative to the library version is 100.0%\n"
     ]
    }
   ],
   "source": [
    "accuracy = (len(s[s==harness_adj])/len(s))*100\n",
    "print(f'The accuracy of the implemented kmeans relative to the library version is {accuracy}%')"
   ],
   "metadata": {
    "collapsed": false
   }
  },
  {
   "cell_type": "markdown",
   "source": [
    "### Assumptions & Limitations\n",
    "* The input to the kmeans function has to be in the form of a pandas dataframe.\n",
    "* With most distance based clustering the assumption is that the user applies some form of scaling technique to maximize the accuracy because axis scaling greatly effects the quality of clustering.\n",
    "* The method for picking cluster centroids is random and limited by the number of seeds.\n",
    "* User has some prior knowledge of kmeans and understands the trade-off between iterations and the number of seeds.\n",
    "* The number of permutations available for seeding is limited.\n",
    "\n",
    "### O(n) Complexity:\n",
    "The $O(n)$ complexity is $O(2^n)$ this is due to the method used to generate seeds based on combination mathematics (This has been limited to minimize memory usage) other parts of the function are limited by user input functions for the number of iterations and the number of seeds."
   ],
   "metadata": {
    "collapsed": false
   }
  },
  {
   "cell_type": "markdown",
   "source": [
    "# Task 5 Visualization"
   ],
   "metadata": {
    "collapsed": false
   }
  },
  {
   "cell_type": "code",
   "execution_count": 32,
   "outputs": [
    {
     "data": {
      "text/plain": "<Figure size 1500x1500 with 1 Axes>",
      "image/png": "[encoded data removed]"
     },
     "metadata": {},
     "output_type": "display_data"
    }
   ],
   "source": [
    "y_label = clustered_data['Cluster']\n",
    "X = clustered_data.drop(['Cluster'],axis=1)\n",
    "\n",
    "from sklearn.preprocessing import StandardScaler\n",
    "scaler = StandardScaler()\n",
    "X = scaler.fit_transform(X)\n",
    "\n",
    "from sklearn.decomposition import PCA\n",
    "pca = PCA(n_components=2)\n",
    "pca.fit(X)\n",
    "\n",
    "proj = pca.transform(X)\n",
    "proj = pd.DataFrame(proj,columns=['PC1','PC2'])\n",
    "proj = pd.concat([proj,y_label],axis=1)\n",
    "\n",
    "colors = {0:'red',1:'blue',2:'green'}\n",
    "label_type = [0,1,2]\n",
    "\n",
    "plt.figure(figsize=(15,15))\n",
    "plt.xlabel('PC1')\n",
    "plt.ylabel('PC2')\n",
    "\n",
    "for type in label_type:\n",
    "    d = proj.loc[proj.Cluster == type]\n",
    "    sns.scatterplot(x=d['PC1'],y=d['PC2'],color = colors[type])"
   ],
   "metadata": {
    "collapsed": false
   }
  },
  {
   "cell_type": "code",
   "execution_count": 32,
   "outputs": [],
   "source": [],
   "metadata": {
    "collapsed": false
   }
  }
 ],
 "metadata": {
  "kernelspec": {
   "display_name": "Python 3",
   "language": "python",
   "name": "python3"
  },
  "language_info": {
   "codemirror_mode": {
    "name": "ipython",
    "version": 2
   },
   "file_extension": ".py",
   "mimetype": "text/x-python",
   "name": "python",
   "nbconvert_exporter": "python",
   "pygments_lexer": "ipython2",
   "version": "2.7.6"
  }
 },
 "nbformat": 4,
 "nbformat_minor": 0
}
